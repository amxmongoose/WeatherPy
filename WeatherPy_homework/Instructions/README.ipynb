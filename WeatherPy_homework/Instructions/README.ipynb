{
 "cells": [
  {
   "cell_type": "markdown",
   "metadata": {},
   "source": [
    "import pandas as pd\n",
    "import numpy as np\n",
    "import seaborn as sea\n",
    "import matplotlib.pyplot as plt\n",
    "import requests as req\n",
    "import json\n",
    "from citipy import citipy"
   ]
  },
  {
   "cell_type": "markdown",
   "metadata": {},
   "source": [
    "#Observed Trend 1: The average temperature decreases as you travel farther from the equator\n",
    "    \n",
    "#Observed Trend 2: Humidity does not have a strong correlation with distance from teh equator\n",
    "\n",
    "#Observed Trend 3: There is no strong correlation with wind speed and distance from the equator"
   ]
  },
  {
   "cell_type": "markdown",
   "metadata": {},
   "source": [
    "url = \"http://api.openweathermap.org/data/2.5/weather?\"\n",
    "myweatherkey = '383110043a1d03ca838185f17b637183'\n",
    "units = \"imperial\"\n",
    "location_df = pd.DataFrame()\n",
    "query_url = url + \"appid=\" + myweatherkey + \"&units=\" + units + \"&q=\""
   ]
  },
  {
   "cell_type": "markdown",
   "metadata": {},
   "source": [
    "#Create list of random latutudes and longitudes\n",
    "for x in range(600):\n",
    "    rand_latitude = np.random.uniform(low=-90.000,high=90.000,size=1)\n",
    "    rand_longitude = np.random.uniform(low=-180.000,high=180.000,size=1)\n",
    "    random_loc = pd.DataFrame([[rand_latitude,rand_longitude]],columns=['latitude','longitude']).astype(float)\n",
    "    location_df = location_df.append(random_loc)\n",
    "my_location_df = location_df.reset_index()"
   ]
  },
  {
   "cell_type": "markdown",
   "metadata": {},
   "source": [
    "#Create random list of cities\n",
    "citylist = []\n",
    "row = 0\n",
    "while row <600:\n",
    "    latitude = my_location_df['latitude'][row]\n",
    "    longitude = my_location_df['longitude'][row]\n",
    "    city=citipy.nearest_city(latitude,longitude)\n",
    "    cityname = city.city_name\n",
    "    country_code = city.country_code\n",
    "    \n",
    "    if city not in citylist:\n",
    "        citylist.append([cityname,country_code,latitude,longitude])\n",
    "    row += 1"
   ]
  },
  {
   "cell_type": "markdown",
   "metadata": {},
   "source": [
    "citylist_df = pd.DataFrame(citylist,columns=['cityname','country_code','latitude','longitude'])\n",
    "city_length = len(citylist_df['cityname'])"
   ]
  },
  {
   "cell_type": "markdown",
   "metadata": {},
   "source": [
    "#Create empty URL list\n",
    "url_list = []   \n",
    "cities = citylist_df['cityname']\n",
    "cities_list = list(cities.values.flatten())"
   ]
  },
  {
   "cell_type": "markdown",
   "metadata": {},
   "source": [
    "index = 0\n",
    "for c in cities_list:\n",
    "    city = c\n",
    "    url_id = query_url+str(c)\n",
    "    print(\"Record \" + str(index+1) + \" of \" + str(city_length) + \" \" + str(c))\n",
    "    print(url_id)\n",
    "    url_list.append(url_id)  \n",
    "    index +=1\n",
    "url_list"
   ]
  },
  {
   "cell_type": "markdown",
   "metadata": {
    "scrolled": true
   },
   "source": [
    "weather_json_l = []\n",
    "for city in url_list:\n",
    "    response = req.get(city).json()\n",
    "    if response=={'cod': '404', 'message': 'city not found'}:\n",
    "       continue\n",
    "    weather_json_l.append(response)  \n",
    "weather_json_l"
   ]
  },
  {
   "cell_type": "markdown",
   "metadata": {},
   "source": [
    "lat_data = [data.get(\"coord\").get(\"lat\") for data in weather_json_l]\n",
    "temp_data = [data.get(\"main\").get(\"temp\") for data in weather_json_l]\n",
    "city = [data.get(\"name\") for data in weather_json_l]\n",
    "humidity = [data.get(\"main\").get('humidity') for data in weather_json_l]\n",
    "wind_speed = [data.get('wind').get('speed') for data in weather_json_l]\n",
    "cloudiness = [data.get('clouds').get('all') for data in weather_json_l]"
   ]
  },
  {
   "cell_type": "markdown",
   "metadata": {},
   "source": [
    "weather_dict = {\"Temperature (Fahrenheit)\": temp_data, \n",
    "                \"Latitude\": lat_data,\n",
    "                \"city\":city,\n",
    "                \"humidity\":humidity,\n",
    "                \"wind speed\":wind_speed,\n",
    "                \"Clouds\":cloudiness}\n",
    "weather_df = pd.DataFrame(weather_dict)"
   ]
  },
  {
   "cell_type": "markdown",
   "metadata": {},
   "source": [
    "weather_df.set_index(\"city\", inplace=True)\n",
    "weather_df.head(1)"
   ]
  },
  {
   "cell_type": "markdown",
   "metadata": {},
   "source": [
    "# save the Series as a csv file\n",
    "weather_df.to_csv(\"Weather_df.csv\",index=False)"
   ]
  },
  {
   "cell_type": "markdown",
   "metadata": {},
   "source": [
    "print(len(weather_df['Clouds']))"
   ]
  },
  {
   "cell_type": "markdown",
   "metadata": {},
   "source": [
    "if len(weather_df['Clouds'])<500:\n",
    "    print(\"Add more locations\")\n",
    "else:\n",
    "    print(\"Location count is greather than 500, so you are good to go!\")"
   ]
  },
  {
   "cell_type": "markdown",
   "metadata": {},
   "source": [
    "plt.scatter(x=weather_df[\"Latitude\"], \n",
    "            y=weather_df[\"Temperature (Fahrenheit)\"],\n",
    "            edgecolors = \"black\",\n",
    "            marker = \"o\",\n",
    "            linewidth = 1.0)         \n",
    "plt.title(\"City Latitude vs. Temp (F) (02/26/2018)\")\n",
    "plt.xlabel('City Latitude',fontsize=10)\n",
    "plt.ylabel('Temperature (Fahrenheit)',fontsize=10)\n",
    "plt.xlim(-80,100)\n",
    "plt.ylim(-100,150)        \n",
    "sea.set()\n",
    "\n",
    "plt.savefig(\"TemperatureInWorldCities3.png\")\n",
    "\n",
    "plt.show"
   ]
  },
  {
   "cell_type": "markdown",
   "metadata": {},
   "source": [
    "plt.scatter(x=weather_df[\"Latitude\"], \n",
    "            y=weather_df[\"humidity\"],\n",
    "            edgecolors = \"black\",\n",
    "            marker = \"o\",\n",
    "            linewidth = 1.0)         \n",
    "plt.title(\"City Latitude vs. Humidity (%) (02/26/2018)\")\n",
    "plt.xlabel('City Latitude',fontsize=8)\n",
    "plt.ylabel('Humidity (%)',fontsize=8)\n",
    "plt.xlim(-80,100)\n",
    "plt.ylim(-20,120)\n",
    "sea.set()\n",
    "plt.savefig(\"HumidityWorldCities1.png\")\n",
    "\n",
    "plt.show"
   ]
  },
  {
   "cell_type": "markdown",
   "metadata": {},
   "source": [
    "plt.scatter(x=weather_df[\"Latitude\"], \n",
    "            y=weather_df[\"humidity\"],\n",
    "            edgecolors = \"black\",\n",
    "            marker = \"o\",\n",
    "            linewidth = 1.0)          \n",
    "plt.title(\"City Latitude vs. Cloudiness (02/26/2018)\")\n",
    "plt.xlabel('City Latitude',fontsize=8)\n",
    "plt.ylabel('Cloudiness (%)',fontsize=8)\n",
    "plt.xlim(-80,100)\n",
    "plt.ylim(-20,120)\n",
    "sea.set()\n",
    "plt.savefig(\"CloudsWorldCities1.png\")\n",
    "\n",
    "plt.show"
   ]
  },
  {
   "cell_type": "markdown",
   "metadata": {},
   "source": [
    "plt.scatter(x=weather_df[\"Latitude\"], \n",
    "            y=weather_df[\"wind speed\"],\n",
    "            edgecolors = \"black\",\n",
    "            marker = \"o\",\n",
    "            linewidth = 1.0)   \n",
    "plt.title(\"City Latitude vs. Wind Speed (02/26/2018)\")\n",
    "plt.xlabel('City Latitude',fontsize=8)\n",
    "plt.ylabel('Wind Speed (mph)',fontsize=8)\n",
    "plt.xlim(-80,100)\n",
    "plt.ylim(-5,40)\n",
    "sea.set()\n",
    "plt.savefig(\"WindSpeedWorldCities1.png\")\n",
    "\n",
    "plt.show"
   ]
  },
  {
   "cell_type": "code",
   "execution_count": null,
   "metadata": {},
   "outputs": [],
   "source": []
  }
 ],
 "metadata": {
  "kernelspec": {
   "display_name": "Python [conda env:myenvironment]",
   "language": "python",
   "name": "conda-env-myenvironment-py"
  },
  "language_info": {
   "codemirror_mode": {
    "name": "ipython",
    "version": 3
   },
   "file_extension": ".py",
   "mimetype": "text/x-python",
   "name": "python",
   "nbconvert_exporter": "python",
   "pygments_lexer": "ipython3",
   "version": "3.6.4"
  }
 },
 "nbformat": 4,
 "nbformat_minor": 2
}
